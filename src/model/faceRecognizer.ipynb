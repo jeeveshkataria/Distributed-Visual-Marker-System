{
 "cells": [
  {
   "cell_type": "markdown",
   "metadata": {
    "colab_type": "text",
    "id": "yQWuwQvHF0BY"
   },
   "source": [
    "## Description: Following code is of face Recognizer.\n",
    "### Working : \n",
    "#### Input: \n",
    "##### training data from drive\n",
    "##### testing data from drive\n",
    "#### output:\n",
    "##### predicted Label corresonding to image"
   ]
  },
  {
   "cell_type": "markdown",
   "metadata": {
    "colab_type": "text",
    "id": "ZY8PHaZYF7bc"
   },
   "source": [
    "mtcnn used for face detection"
   ]
  },
  {
   "cell_type": "code",
   "execution_count": 1,
   "metadata": {
    "colab": {
     "base_uri": "https://localhost:8080/",
     "height": 287
    },
    "colab_type": "code",
    "id": "wVkME0ocF02i",
    "outputId": "19793e15-9df8-4427-8f6c-59009a55c005"
   },
   "outputs": [
    {
     "name": "stdout",
     "output_type": "stream",
     "text": [
      "Collecting mtcnn\n",
      "\u001b[?25l  Downloading https://files.pythonhosted.org/packages/67/43/abee91792797c609c1bf30f1112117f7a87a713ebaa6ec5201d5555a73ef/mtcnn-0.1.0-py3-none-any.whl (2.3MB)\n",
      "\r",
      "\u001b[K     |▏                               | 10kB 27.5MB/s eta 0:00:01\r",
      "\u001b[K     |▎                               | 20kB 6.4MB/s eta 0:00:01\r",
      "\u001b[K     |▍                               | 30kB 9.0MB/s eta 0:00:01\r",
      "\u001b[K     |▋                               | 40kB 5.9MB/s eta 0:00:01\r",
      "\u001b[K     |▊                               | 51kB 7.2MB/s eta 0:00:01\r",
      "\u001b[K     |▉                               | 61kB 8.4MB/s eta 0:00:01\r",
      "\u001b[K     |█                               | 71kB 9.5MB/s eta 0:00:01\r",
      "\u001b[K     |█▏                              | 81kB 7.7MB/s eta 0:00:01\r",
      "\u001b[K     |█▎                              | 92kB 8.5MB/s eta 0:00:01\r",
      "\u001b[K     |█▌                              | 102kB 9.3MB/s eta 0:00:01\r",
      "\u001b[K     |█▋                              | 112kB 9.3MB/s eta 0:00:01\r",
      "\u001b[K     |█▊                              | 122kB 9.3MB/s eta 0:00:01\r",
      "\u001b[K     |█▉                              | 133kB 9.3MB/s eta 0:00:01\r",
      "\u001b[K     |██                              | 143kB 9.3MB/s eta 0:00:01\r",
      "\u001b[K     |██▏                             | 153kB 9.3MB/s eta 0:00:01\r",
      "\u001b[K     |██▎                             | 163kB 9.3MB/s eta 0:00:01\r",
      "\u001b[K     |██▌                             | 174kB 9.3MB/s eta 0:00:01\r",
      "\u001b[K     |██▋                             | 184kB 9.3MB/s eta 0:00:01\r",
      "\u001b[K     |██▊                             | 194kB 9.3MB/s eta 0:00:01\r",
      "\u001b[K     |███                             | 204kB 9.3MB/s eta 0:00:01\r",
      "\u001b[K     |███                             | 215kB 9.3MB/s eta 0:00:01\r",
      "\u001b[K     |███▏                            | 225kB 9.3MB/s eta 0:00:01\r",
      "\u001b[K     |███▍                            | 235kB 9.3MB/s eta 0:00:01\r",
      "\u001b[K     |███▌                            | 245kB 9.3MB/s eta 0:00:01\r",
      "\u001b[K     |███▋                            | 256kB 9.3MB/s eta 0:00:01\r",
      "\u001b[K     |███▊                            | 266kB 9.3MB/s eta 0:00:01\r",
      "\u001b[K     |████                            | 276kB 9.3MB/s eta 0:00:01\r",
      "\u001b[K     |████                            | 286kB 9.3MB/s eta 0:00:01\r",
      "\u001b[K     |████▏                           | 296kB 9.3MB/s eta 0:00:01\r",
      "\u001b[K     |████▍                           | 307kB 9.3MB/s eta 0:00:01\r",
      "\u001b[K     |████▌                           | 317kB 9.3MB/s eta 0:00:01\r",
      "\u001b[K     |████▋                           | 327kB 9.3MB/s eta 0:00:01\r",
      "\u001b[K     |████▉                           | 337kB 9.3MB/s eta 0:00:01\r",
      "\u001b[K     |█████                           | 348kB 9.3MB/s eta 0:00:01\r",
      "\u001b[K     |█████                           | 358kB 9.3MB/s eta 0:00:01\r",
      "\u001b[K     |█████▏                          | 368kB 9.3MB/s eta 0:00:01\r",
      "\u001b[K     |█████▍                          | 378kB 9.3MB/s eta 0:00:01\r",
      "\u001b[K     |█████▌                          | 389kB 9.3MB/s eta 0:00:01\r",
      "\u001b[K     |█████▋                          | 399kB 9.3MB/s eta 0:00:01\r",
      "\u001b[K     |█████▉                          | 409kB 9.3MB/s eta 0:00:01\r",
      "\u001b[K     |██████                          | 419kB 9.3MB/s eta 0:00:01\r",
      "\u001b[K     |██████                          | 430kB 9.3MB/s eta 0:00:01\r",
      "\u001b[K     |██████▎                         | 440kB 9.3MB/s eta 0:00:01\r",
      "\u001b[K     |██████▍                         | 450kB 9.3MB/s eta 0:00:01\r",
      "\u001b[K     |██████▌                         | 460kB 9.3MB/s eta 0:00:01\r",
      "\u001b[K     |██████▊                         | 471kB 9.3MB/s eta 0:00:01\r",
      "\u001b[K     |██████▉                         | 481kB 9.3MB/s eta 0:00:01\r",
      "\u001b[K     |███████                         | 491kB 9.3MB/s eta 0:00:01\r",
      "\u001b[K     |███████                         | 501kB 9.3MB/s eta 0:00:01\r",
      "\u001b[K     |███████▎                        | 512kB 9.3MB/s eta 0:00:01\r",
      "\u001b[K     |███████▍                        | 522kB 9.3MB/s eta 0:00:01\r",
      "\u001b[K     |███████▌                        | 532kB 9.3MB/s eta 0:00:01\r",
      "\u001b[K     |███████▊                        | 542kB 9.3MB/s eta 0:00:01\r",
      "\u001b[K     |███████▉                        | 552kB 9.3MB/s eta 0:00:01\r",
      "\u001b[K     |████████                        | 563kB 9.3MB/s eta 0:00:01\r",
      "\u001b[K     |████████▏                       | 573kB 9.3MB/s eta 0:00:01\r",
      "\u001b[K     |████████▎                       | 583kB 9.3MB/s eta 0:00:01\r",
      "\u001b[K     |████████▍                       | 593kB 9.3MB/s eta 0:00:01\r",
      "\u001b[K     |████████▌                       | 604kB 9.3MB/s eta 0:00:01\r",
      "\u001b[K     |████████▊                       | 614kB 9.3MB/s eta 0:00:01\r",
      "\u001b[K     |████████▉                       | 624kB 9.3MB/s eta 0:00:01\r",
      "\u001b[K     |█████████                       | 634kB 9.3MB/s eta 0:00:01\r",
      "\u001b[K     |█████████▏                      | 645kB 9.3MB/s eta 0:00:01\r",
      "\u001b[K     |█████████▎                      | 655kB 9.3MB/s eta 0:00:01\r",
      "\u001b[K     |█████████▍                      | 665kB 9.3MB/s eta 0:00:01\r",
      "\u001b[K     |█████████▋                      | 675kB 9.3MB/s eta 0:00:01\r",
      "\u001b[K     |█████████▊                      | 686kB 9.3MB/s eta 0:00:01\r",
      "\u001b[K     |█████████▉                      | 696kB 9.3MB/s eta 0:00:01\r",
      "\u001b[K     |██████████                      | 706kB 9.3MB/s eta 0:00:01\r",
      "\u001b[K     |██████████▏                     | 716kB 9.3MB/s eta 0:00:01\r",
      "\u001b[K     |██████████▎                     | 727kB 9.3MB/s eta 0:00:01\r",
      "\u001b[K     |██████████▍                     | 737kB 9.3MB/s eta 0:00:01\r",
      "\u001b[K     |██████████▋                     | 747kB 9.3MB/s eta 0:00:01\r",
      "\u001b[K     |██████████▊                     | 757kB 9.3MB/s eta 0:00:01\r",
      "\u001b[K     |██████████▉                     | 768kB 9.3MB/s eta 0:00:01\r",
      "\u001b[K     |███████████                     | 778kB 9.3MB/s eta 0:00:01\r",
      "\u001b[K     |███████████▏                    | 788kB 9.3MB/s eta 0:00:01\r",
      "\u001b[K     |███████████▎                    | 798kB 9.3MB/s eta 0:00:01\r",
      "\u001b[K     |███████████▌                    | 808kB 9.3MB/s eta 0:00:01\r",
      "\u001b[K     |███████████▋                    | 819kB 9.3MB/s eta 0:00:01\r",
      "\u001b[K     |███████████▊                    | 829kB 9.3MB/s eta 0:00:01\r",
      "\u001b[K     |███████████▉                    | 839kB 9.3MB/s eta 0:00:01\r",
      "\u001b[K     |████████████                    | 849kB 9.3MB/s eta 0:00:01\r",
      "\u001b[K     |████████████▏                   | 860kB 9.3MB/s eta 0:00:01\r",
      "\u001b[K     |████████████▎                   | 870kB 9.3MB/s eta 0:00:01\r",
      "\u001b[K     |████████████▌                   | 880kB 9.3MB/s eta 0:00:01\r",
      "\u001b[K     |████████████▋                   | 890kB 9.3MB/s eta 0:00:01\r",
      "\u001b[K     |████████████▊                   | 901kB 9.3MB/s eta 0:00:01\r",
      "\u001b[K     |█████████████                   | 911kB 9.3MB/s eta 0:00:01\r",
      "\u001b[K     |█████████████                   | 921kB 9.3MB/s eta 0:00:01\r",
      "\u001b[K     |█████████████▏                  | 931kB 9.3MB/s eta 0:00:01\r",
      "\u001b[K     |█████████████▍                  | 942kB 9.3MB/s eta 0:00:01\r",
      "\u001b[K     |█████████████▌                  | 952kB 9.3MB/s eta 0:00:01\r",
      "\u001b[K     |█████████████▋                  | 962kB 9.3MB/s eta 0:00:01\r",
      "\u001b[K     |█████████████▊                  | 972kB 9.3MB/s eta 0:00:01\r",
      "\u001b[K     |██████████████                  | 983kB 9.3MB/s eta 0:00:01\r",
      "\u001b[K     |██████████████                  | 993kB 9.3MB/s eta 0:00:01\r",
      "\u001b[K     |██████████████▏                 | 1.0MB 9.3MB/s eta 0:00:01\r",
      "\u001b[K     |██████████████▍                 | 1.0MB 9.3MB/s eta 0:00:01\r",
      "\u001b[K     |██████████████▌                 | 1.0MB 9.3MB/s eta 0:00:01\r",
      "\u001b[K     |██████████████▋                 | 1.0MB 9.3MB/s eta 0:00:01\r",
      "\u001b[K     |██████████████▉                 | 1.0MB 9.3MB/s eta 0:00:01\r",
      "\u001b[K     |███████████████                 | 1.1MB 9.3MB/s eta 0:00:01\r",
      "\u001b[K     |███████████████                 | 1.1MB 9.3MB/s eta 0:00:01\r",
      "\u001b[K     |███████████████▏                | 1.1MB 9.3MB/s eta 0:00:01\r",
      "\u001b[K     |███████████████▍                | 1.1MB 9.3MB/s eta 0:00:01\r",
      "\u001b[K     |███████████████▌                | 1.1MB 9.3MB/s eta 0:00:01\r",
      "\u001b[K     |███████████████▋                | 1.1MB 9.3MB/s eta 0:00:01\r",
      "\u001b[K     |███████████████▉                | 1.1MB 9.3MB/s eta 0:00:01\r",
      "\u001b[K     |████████████████                | 1.1MB 9.3MB/s eta 0:00:01\r",
      "\u001b[K     |████████████████                | 1.1MB 9.3MB/s eta 0:00:01\r",
      "\u001b[K     |████████████████▎               | 1.1MB 9.3MB/s eta 0:00:01\r",
      "\u001b[K     |████████████████▍               | 1.2MB 9.3MB/s eta 0:00:01\r",
      "\u001b[K     |████████████████▌               | 1.2MB 9.3MB/s eta 0:00:01\r",
      "\u001b[K     |████████████████▊               | 1.2MB 9.3MB/s eta 0:00:01\r",
      "\u001b[K     |████████████████▉               | 1.2MB 9.3MB/s eta 0:00:01\r",
      "\u001b[K     |█████████████████               | 1.2MB 9.3MB/s eta 0:00:01\r",
      "\u001b[K     |█████████████████               | 1.2MB 9.3MB/s eta 0:00:01\r",
      "\u001b[K     |█████████████████▎              | 1.2MB 9.3MB/s eta 0:00:01\r",
      "\u001b[K     |█████████████████▍              | 1.2MB 9.3MB/s eta 0:00:01\r",
      "\u001b[K     |█████████████████▌              | 1.2MB 9.3MB/s eta 0:00:01\r",
      "\u001b[K     |█████████████████▊              | 1.2MB 9.3MB/s eta 0:00:01\r",
      "\u001b[K     |█████████████████▉              | 1.3MB 9.3MB/s eta 0:00:01\r",
      "\u001b[K     |██████████████████              | 1.3MB 9.3MB/s eta 0:00:01\r",
      "\u001b[K     |██████████████████▏             | 1.3MB 9.3MB/s eta 0:00:01\r",
      "\u001b[K     |██████████████████▎             | 1.3MB 9.3MB/s eta 0:00:01\r",
      "\u001b[K     |██████████████████▍             | 1.3MB 9.3MB/s eta 0:00:01\r",
      "\u001b[K     |██████████████████▋             | 1.3MB 9.3MB/s eta 0:00:01\r",
      "\u001b[K     |██████████████████▊             | 1.3MB 9.3MB/s eta 0:00:01\r",
      "\u001b[K     |██████████████████▉             | 1.3MB 9.3MB/s eta 0:00:01\r",
      "\u001b[K     |███████████████████             | 1.3MB 9.3MB/s eta 0:00:01\r",
      "\u001b[K     |███████████████████▏            | 1.4MB 9.3MB/s eta 0:00:01\r",
      "\u001b[K     |███████████████████▎            | 1.4MB 9.3MB/s eta 0:00:01\r",
      "\u001b[K     |███████████████████▍            | 1.4MB 9.3MB/s eta 0:00:01\r",
      "\u001b[K     |███████████████████▋            | 1.4MB 9.3MB/s eta 0:00:01\r",
      "\u001b[K     |███████████████████▊            | 1.4MB 9.3MB/s eta 0:00:01\r",
      "\u001b[K     |███████████████████▉            | 1.4MB 9.3MB/s eta 0:00:01\r",
      "\u001b[K     |████████████████████            | 1.4MB 9.3MB/s eta 0:00:01\r",
      "\u001b[K     |████████████████████▏           | 1.4MB 9.3MB/s eta 0:00:01\r",
      "\u001b[K     |████████████████████▎           | 1.4MB 9.3MB/s eta 0:00:01\r",
      "\u001b[K     |████████████████████▍           | 1.4MB 9.3MB/s eta 0:00:01\r",
      "\u001b[K     |████████████████████▋           | 1.5MB 9.3MB/s eta 0:00:01\r",
      "\u001b[K     |████████████████████▊           | 1.5MB 9.3MB/s eta 0:00:01\r",
      "\u001b[K     |████████████████████▉           | 1.5MB 9.3MB/s eta 0:00:01\r",
      "\u001b[K     |█████████████████████           | 1.5MB 9.3MB/s eta 0:00:01\r",
      "\u001b[K     |█████████████████████▏          | 1.5MB 9.3MB/s eta 0:00:01\r",
      "\u001b[K     |█████████████████████▎          | 1.5MB 9.3MB/s eta 0:00:01\r",
      "\u001b[K     |█████████████████████▌          | 1.5MB 9.3MB/s eta 0:00:01\r",
      "\u001b[K     |█████████████████████▋          | 1.5MB 9.3MB/s eta 0:00:01\r",
      "\u001b[K     |█████████████████████▊          | 1.5MB 9.3MB/s eta 0:00:01\r",
      "\u001b[K     |██████████████████████          | 1.5MB 9.3MB/s eta 0:00:01\r",
      "\u001b[K     |██████████████████████          | 1.6MB 9.3MB/s eta 0:00:01\r",
      "\u001b[K     |██████████████████████▏         | 1.6MB 9.3MB/s eta 0:00:01\r",
      "\u001b[K     |██████████████████████▎         | 1.6MB 9.3MB/s eta 0:00:01\r",
      "\u001b[K     |██████████████████████▌         | 1.6MB 9.3MB/s eta 0:00:01\r",
      "\u001b[K     |██████████████████████▋         | 1.6MB 9.3MB/s eta 0:00:01\r",
      "\u001b[K     |██████████████████████▊         | 1.6MB 9.3MB/s eta 0:00:01\r",
      "\u001b[K     |███████████████████████         | 1.6MB 9.3MB/s eta 0:00:01\r",
      "\u001b[K     |███████████████████████         | 1.6MB 9.3MB/s eta 0:00:01\r",
      "\u001b[K     |███████████████████████▏        | 1.6MB 9.3MB/s eta 0:00:01\r",
      "\u001b[K     |███████████████████████▍        | 1.6MB 9.3MB/s eta 0:00:01\r",
      "\u001b[K     |███████████████████████▌        | 1.7MB 9.3MB/s eta 0:00:01\r",
      "\u001b[K     |███████████████████████▋        | 1.7MB 9.3MB/s eta 0:00:01\r",
      "\u001b[K     |███████████████████████▊        | 1.7MB 9.3MB/s eta 0:00:01\r",
      "\u001b[K     |████████████████████████        | 1.7MB 9.3MB/s eta 0:00:01\r",
      "\u001b[K     |████████████████████████        | 1.7MB 9.3MB/s eta 0:00:01\r",
      "\u001b[K     |████████████████████████▏       | 1.7MB 9.3MB/s eta 0:00:01\r",
      "\u001b[K     |████████████████████████▍       | 1.7MB 9.3MB/s eta 0:00:01\r",
      "\u001b[K     |████████████████████████▌       | 1.7MB 9.3MB/s eta 0:00:01\r",
      "\u001b[K     |████████████████████████▋       | 1.7MB 9.3MB/s eta 0:00:01\r",
      "\u001b[K     |████████████████████████▉       | 1.8MB 9.3MB/s eta 0:00:01\r",
      "\u001b[K     |█████████████████████████       | 1.8MB 9.3MB/s eta 0:00:01\r",
      "\u001b[K     |█████████████████████████       | 1.8MB 9.3MB/s eta 0:00:01\r",
      "\u001b[K     |█████████████████████████▎      | 1.8MB 9.3MB/s eta 0:00:01\r",
      "\u001b[K     |█████████████████████████▍      | 1.8MB 9.3MB/s eta 0:00:01\r",
      "\u001b[K     |█████████████████████████▌      | 1.8MB 9.3MB/s eta 0:00:01\r",
      "\u001b[K     |█████████████████████████▋      | 1.8MB 9.3MB/s eta 0:00:01\r",
      "\u001b[K     |█████████████████████████▉      | 1.8MB 9.3MB/s eta 0:00:01\r",
      "\u001b[K     |██████████████████████████      | 1.8MB 9.3MB/s eta 0:00:01\r",
      "\u001b[K     |██████████████████████████      | 1.8MB 9.3MB/s eta 0:00:01\r",
      "\u001b[K     |██████████████████████████▎     | 1.9MB 9.3MB/s eta 0:00:01\r",
      "\u001b[K     |██████████████████████████▍     | 1.9MB 9.3MB/s eta 0:00:01\r",
      "\u001b[K     |██████████████████████████▌     | 1.9MB 9.3MB/s eta 0:00:01\r",
      "\u001b[K     |██████████████████████████▊     | 1.9MB 9.3MB/s eta 0:00:01\r",
      "\u001b[K     |██████████████████████████▉     | 1.9MB 9.3MB/s eta 0:00:01\r",
      "\u001b[K     |███████████████████████████     | 1.9MB 9.3MB/s eta 0:00:01\r",
      "\u001b[K     |███████████████████████████     | 1.9MB 9.3MB/s eta 0:00:01\r",
      "\u001b[K     |███████████████████████████▎    | 1.9MB 9.3MB/s eta 0:00:01\r",
      "\u001b[K     |███████████████████████████▍    | 1.9MB 9.3MB/s eta 0:00:01\r",
      "\u001b[K     |███████████████████████████▌    | 1.9MB 9.3MB/s eta 0:00:01\r",
      "\u001b[K     |███████████████████████████▊    | 2.0MB 9.3MB/s eta 0:00:01\r",
      "\u001b[K     |███████████████████████████▉    | 2.0MB 9.3MB/s eta 0:00:01\r",
      "\u001b[K     |████████████████████████████    | 2.0MB 9.3MB/s eta 0:00:01\r",
      "\u001b[K     |████████████████████████████▏   | 2.0MB 9.3MB/s eta 0:00:01\r",
      "\u001b[K     |████████████████████████████▎   | 2.0MB 9.3MB/s eta 0:00:01\r",
      "\u001b[K     |████████████████████████████▍   | 2.0MB 9.3MB/s eta 0:00:01\r",
      "\u001b[K     |████████████████████████████▋   | 2.0MB 9.3MB/s eta 0:00:01\r",
      "\u001b[K     |████████████████████████████▊   | 2.0MB 9.3MB/s eta 0:00:01\r",
      "\u001b[K     |████████████████████████████▉   | 2.0MB 9.3MB/s eta 0:00:01\r",
      "\u001b[K     |█████████████████████████████   | 2.0MB 9.3MB/s eta 0:00:01\r",
      "\u001b[K     |█████████████████████████████▏  | 2.1MB 9.3MB/s eta 0:00:01\r",
      "\u001b[K     |█████████████████████████████▎  | 2.1MB 9.3MB/s eta 0:00:01\r",
      "\u001b[K     |█████████████████████████████▍  | 2.1MB 9.3MB/s eta 0:00:01\r",
      "\u001b[K     |█████████████████████████████▋  | 2.1MB 9.3MB/s eta 0:00:01\r",
      "\u001b[K     |█████████████████████████████▊  | 2.1MB 9.3MB/s eta 0:00:01\r",
      "\u001b[K     |█████████████████████████████▉  | 2.1MB 9.3MB/s eta 0:00:01\r",
      "\u001b[K     |██████████████████████████████  | 2.1MB 9.3MB/s eta 0:00:01\r",
      "\u001b[K     |██████████████████████████████▏ | 2.1MB 9.3MB/s eta 0:00:01\r",
      "\u001b[K     |██████████████████████████████▎ | 2.1MB 9.3MB/s eta 0:00:01\r",
      "\u001b[K     |██████████████████████████████▍ | 2.2MB 9.3MB/s eta 0:00:01\r",
      "\u001b[K     |██████████████████████████████▋ | 2.2MB 9.3MB/s eta 0:00:01\r",
      "\u001b[K     |██████████████████████████████▊ | 2.2MB 9.3MB/s eta 0:00:01\r",
      "\u001b[K     |██████████████████████████████▉ | 2.2MB 9.3MB/s eta 0:00:01\r",
      "\u001b[K     |███████████████████████████████ | 2.2MB 9.3MB/s eta 0:00:01\r",
      "\u001b[K     |███████████████████████████████▏| 2.2MB 9.3MB/s eta 0:00:01\r",
      "\u001b[K     |███████████████████████████████▎| 2.2MB 9.3MB/s eta 0:00:01\r",
      "\u001b[K     |███████████████████████████████▌| 2.2MB 9.3MB/s eta 0:00:01\r",
      "\u001b[K     |███████████████████████████████▋| 2.2MB 9.3MB/s eta 0:00:01\r",
      "\u001b[K     |███████████████████████████████▊| 2.2MB 9.3MB/s eta 0:00:01\r",
      "\u001b[K     |████████████████████████████████| 2.3MB 9.3MB/s eta 0:00:01\r",
      "\u001b[K     |████████████████████████████████| 2.3MB 9.3MB/s \n",
      "\u001b[?25hRequirement already satisfied: opencv-python>=4.1.0 in /usr/local/lib/python3.6/dist-packages (from mtcnn) (4.1.2.30)\n",
      "Requirement already satisfied: keras>=2.0.0 in /usr/local/lib/python3.6/dist-packages (from mtcnn) (2.3.1)\n",
      "Requirement already satisfied: numpy>=1.11.3 in /usr/local/lib/python3.6/dist-packages (from opencv-python>=4.1.0->mtcnn) (1.18.2)\n",
      "Requirement already satisfied: h5py in /usr/local/lib/python3.6/dist-packages (from keras>=2.0.0->mtcnn) (2.10.0)\n",
      "Requirement already satisfied: keras-applications>=1.0.6 in /usr/local/lib/python3.6/dist-packages (from keras>=2.0.0->mtcnn) (1.0.8)\n",
      "Requirement already satisfied: keras-preprocessing>=1.0.5 in /usr/local/lib/python3.6/dist-packages (from keras>=2.0.0->mtcnn) (1.1.0)\n",
      "Requirement already satisfied: pyyaml in /usr/local/lib/python3.6/dist-packages (from keras>=2.0.0->mtcnn) (3.13)\n",
      "Requirement already satisfied: scipy>=0.14 in /usr/local/lib/python3.6/dist-packages (from keras>=2.0.0->mtcnn) (1.4.1)\n",
      "Requirement already satisfied: six>=1.9.0 in /usr/local/lib/python3.6/dist-packages (from keras>=2.0.0->mtcnn) (1.12.0)\n",
      "Installing collected packages: mtcnn\n",
      "Successfully installed mtcnn-0.1.0\n"
     ]
    }
   ],
   "source": [
    "!pip3 install mtcnn"
   ]
  },
  {
   "cell_type": "code",
   "execution_count": 0,
   "metadata": {
    "colab": {},
    "colab_type": "code",
    "id": "UfRG-vK0HCFT"
   },
   "outputs": [],
   "source": [
    "from PIL import Image\n",
    "from numpy import asarray\n",
    "from mtcnn.mtcnn import MTCNN\n",
    "import os\n",
    "from os.path import isdir\n",
    "from os import listdir\n",
    "from PIL import Image\n",
    "from numpy import asarray\n",
    "from matplotlib import pyplot\n",
    "from mtcnn.mtcnn import MTCNN\n",
    "from numpy import load\n",
    "from numpy import expand_dims\n",
    "from numpy import asarray\n",
    "from numpy import savez_compressed\n",
    "from keras.models import load_model\n",
    "from sklearn.metrics import accuracy_score\n",
    "from sklearn.preprocessing import Normalizer\n",
    "from sklearn.neighbors import KNeighborsClassifier\n",
    "import numpy as np\n",
    "from sklearn.ensemble import RandomForestClassifier\n"
   ]
  },
  {
   "cell_type": "code",
   "execution_count": 0,
   "metadata": {
    "colab": {},
    "colab_type": "code",
    "id": "TEjDREAqGDws"
   },
   "outputs": [],
   "source": [
    "# extract a single face from a given photograph\n",
    "def extract_face(filename, required_size=(160, 160)):\n",
    "\t# load image from file\n",
    "\timage = Image.open(filename)\n",
    "\t# convert to RGB, if needed\n",
    "\timage = image.convert('RGB')\n",
    "\t# convert to array\n",
    "\tpixels = asarray(image)\n",
    "\t# create the detector, using default weights\n",
    "\tdetector = MTCNN()\n",
    "\t# detect faces in the image\n",
    "\tresults = detector.detect_faces(pixels)\n",
    "  #if image is not having face\n",
    "  if len(results)==0 :\n",
    "    return []\n",
    "\t# extract the bounding box from the first face\n",
    "\tx1, y1, width, height = results[0]['box']\n",
    "\t# bug fix\n",
    "\tx1, y1 = abs(x1), abs(y1)\n",
    "\tx2, y2 = x1 + width, y1 + height\n",
    "\t# extract the face\n",
    "\tface = pixels[y1:y2, x1:x2]\n",
    "\t# resize pixels to the model size\n",
    "\timage = Image.fromarray(face)\n",
    "\timage = image.resize(required_size)\n",
    "\tface_array = asarray(image)\n",
    "\treturn face_array\n"
   ]
  },
  {
   "cell_type": "code",
   "execution_count": 0,
   "metadata": {
    "colab": {},
    "colab_type": "code",
    "id": "Naho_aJwGfBw"
   },
   "outputs": [],
   "source": [
    "def load_faces(directory):\n",
    "  faces = list()\n",
    "\t# enumerate files\n",
    "\tfor filename in listdir(directory):\n",
    "\t\t# path\n",
    "\t\tpath = directory + filename\n",
    "\t\t# get face\n",
    "\t\tface = extract_face(path)\n",
    "    # if image is not having any face\n",
    "     if len(face) == 0:\n",
    "      continue\n",
    "\t\t# store\n",
    "\t\tfaces.append(face)\n",
    "\treturn faces"
   ]
  },
  {
   "cell_type": "code",
   "execution_count": 0,
   "metadata": {
    "colab": {},
    "colab_type": "code",
    "id": "9k0jo3U_GiNY"
   },
   "outputs": [],
   "source": [
    "# load a dataset that contains one subdir for each class that in turn contains images\n",
    "def load_dataset(directory):\n",
    "\tX, y = list(), list()\n",
    "\t# enumerate folders, on per class\n",
    "\tfor subdir in listdir(directory):\n",
    "\t\t# path\n",
    "\t\tpath = directory + subdir + '/'\n",
    "\t\t# skip any files that might be in the dir\n",
    "\t\tif not isdir(path):\n",
    "\t\t\tcontinue\n",
    "\t\t# load all faces in the subdirectory\n",
    "\t\tfaces = load_faces(path)\n",
    "\t\t# create labels\n",
    "\t\tlabels = [subdir for _ in range(len(faces))]\n",
    "\t\t# summarize progress\n",
    "\t\tprint('>loaded %d examples for class: %s' % (len(faces), subdir))\n",
    "\t\t# store\n",
    "\t\tX.extend(faces)\n",
    "\t\ty.extend(labels)\n",
    "\treturn asarray(X), asarray(y)"
   ]
  },
  {
   "cell_type": "markdown",
   "metadata": {
    "colab_type": "text",
    "id": "_iizUGByJGBu"
   },
   "source": [
    "loading Dataset from trainingDATA and testingDATA from drive"
   ]
  },
  {
   "cell_type": "code",
   "execution_count": 11,
   "metadata": {
    "colab": {
     "base_uri": "https://localhost:8080/",
     "height": 88
    },
    "colab_type": "code",
    "id": "pw95Hi9YGnQy",
    "outputId": "5cdfe654-50d6-4c2e-f6a5-0419795b81d2"
   },
   "outputs": [
    {
     "name": "stdout",
     "output_type": "stream",
     "text": [
      "(561, 160, 160, 3)\n",
      "(118, 160, 160, 3)\n",
      "(561,)\n",
      "(118,)\n"
     ]
    }
   ],
   "source": [
    "trainX, trainy = load_dataset(\"/content/drive/My Drive/SE_project/trainingDATA/\")\n",
    "testX, testy = load_dataset(\"/content/drive/My Drive/SE_project/testingDATA/\")\n",
    "print(trainX.shape)\n",
    "print(testX.shape)\n",
    "print(trainy.shape)\n",
    "print(testy.shape)\n"
   ]
  },
  {
   "cell_type": "markdown",
   "metadata": {
    "colab_type": "text",
    "id": "HfMBKeAiJhry"
   },
   "source": [
    "keraspath is used to load the model,as we are using facenet model(pre Trained Model ) facenet_keras.h5 is downloaded from interet"
   ]
  },
  {
   "cell_type": "code",
   "execution_count": 0,
   "metadata": {
    "colab": {},
    "colab_type": "code",
    "id": "UzklGrfXJgWT"
   },
   "outputs": [],
   "source": [
    "keraspath=\"/content/drive/My Drive/SE_project/code/facenet_keras.h5\"\n",
    "from keras.models import load_model\n",
    "model = load_model(keraspath,compile=False)"
   ]
  },
  {
   "cell_type": "code",
   "execution_count": 0,
   "metadata": {
    "colab": {},
    "colab_type": "code",
    "id": "JUpNMN4vGqXt"
   },
   "outputs": [],
   "source": [
    "# used to convert iamge of shape(160*160*3) into vectors(1 * 128)\n",
    "def get_embedding(model, face_pixels):\n",
    "  #converting to float data type\n",
    "  face_pixels = face_pixels.astype('float32')\n",
    "  # finding mean,std of face\n",
    "  mean, std = face_pixels.mean(), face_pixels.std()\n",
    "  # Normalizing the vector\n",
    "  face_pixels = (face_pixels - mean) / std\n",
    "  samples = expand_dims(face_pixels, axis=0)\n",
    "  yhat = model.predict(samples)\n",
    "  return yhat[0]"
   ]
  },
  {
   "cell_type": "code",
   "execution_count": 18,
   "metadata": {
    "colab": {
     "base_uri": "https://localhost:8080/",
     "height": 35
    },
    "colab_type": "code",
    "id": "VqZ696SVKfuE",
    "outputId": "ef23cd95-d25a-43f6-85ea-a01f0d86140b"
   },
   "outputs": [
    {
     "name": "stdout",
     "output_type": "stream",
     "text": [
      "(561, 128)\n"
     ]
    }
   ],
   "source": [
    "#convert each image present in trainX to embedded vector \n",
    "newTrainX = list()\n",
    "for face_pixels in trainX:\n",
    "\tembedding = get_embedding(model, face_pixels)\n",
    "\tnewTrainX.append(embedding)\n",
    "newTrainX = asarray(newTrainX)\n",
    "print(newTrainX.shape)\n"
   ]
  },
  {
   "cell_type": "code",
   "execution_count": 19,
   "metadata": {
    "colab": {
     "base_uri": "https://localhost:8080/",
     "height": 35
    },
    "colab_type": "code",
    "id": "pu_uqUEGKorQ",
    "outputId": "f2ee387e-d532-4d31-cd47-df54f07ea9ea"
   },
   "outputs": [
    {
     "name": "stdout",
     "output_type": "stream",
     "text": [
      "(118, 128)\n"
     ]
    }
   ],
   "source": [
    "#convert each image present in testX to embedded vector\n",
    "newTestX = list()\n",
    "for face_pixels in testX:\n",
    "\tembedding = get_embedding(model, face_pixels)\n",
    "\tnewTestX.append(embedding)\n",
    "newTestX = asarray(newTestX)\n",
    "print(newTestX.shape)"
   ]
  },
  {
   "cell_type": "markdown",
   "metadata": {
    "colab_type": "text",
    "id": "OqwrvZ5lPSYJ"
   },
   "source": [
    "**We are used Random forest classifier to train our data**"
   ]
  },
  {
   "cell_type": "code",
   "execution_count": 22,
   "metadata": {
    "colab": {
     "base_uri": "https://localhost:8080/",
     "height": 35
    },
    "colab_type": "code",
    "id": "qWDkxa5AK3WK",
    "outputId": "41aaf100-7541-44b6-a49f-78cdc0af51cf"
   },
   "outputs": [
    {
     "name": "stdout",
     "output_type": "stream",
     "text": [
      "0.9915254237288136\n"
     ]
    }
   ],
   "source": [
    "trainX=newTrainX\n",
    "trainy=trainy\n",
    "testX=newTestX\n",
    "testy=testy\n",
    "concat = np.concatenate((trainX,testX),axis=0)\n",
    "\n",
    "lent = len(trainX)\n",
    "\n",
    "in_encoder = Normalizer(norm='l2')\n",
    "concat = in_encoder.transform(concat)\n",
    "\n",
    "trainX = concat[:lent]\n",
    "testX = concat[lent:]\n",
    "\n",
    "clf = RandomForestClassifier(n_estimators = 500,n_jobs=-1)\n",
    "clf.fit(trainX,trainy)\n",
    "predicted = clf.predict(testX)\n",
    "print(accuracy_score(testy,predicted))"
   ]
  },
  {
   "cell_type": "markdown",
   "metadata": {
    "colab": {},
    "colab_type": "code",
    "id": "T7ua0uh6K3UQ"
   },
   "source": [
    "## Now, We have realized that training takes too much time,so we are doing training in COLAB.As we get GPU, which increases speed and saving data. so it will take less time in loacl machine"
   ]
  },
  {
   "cell_type": "markdown",
   "metadata": {},
   "source": [
    "## What we are saving to reduce speed?"
   ]
  },
  {
   "cell_type": "markdown",
   "metadata": {},
   "source": [
    "### we are saving pickle file corresponds to:\n",
    "#### training data\n",
    "#### training label\n",
    "#### testing data\n",
    "#### testing label\n",
    "#### classifier (it is an object of typle randome forest)\n",
    "#### model ( which is prestrained )"
   ]
  },
  {
   "cell_type": "markdown",
   "metadata": {},
   "source": [
    "### Where we are saving?"
   ]
  },
  {
   "cell_type": "markdown",
   "metadata": {},
   "source": [
    "Save to local machine"
   ]
  },
  {
   "cell_type": "code",
   "execution_count": null,
   "metadata": {},
   "outputs": [],
   "source": []
  }
 ],
 "metadata": {
  "accelerator": "GPU",
  "colab": {
   "name": "faceRecognizer.ipynb",
   "provenance": []
  },
  "kernelspec": {
   "display_name": "Python 3",
   "language": "python",
   "name": "python3"
  },
  "language_info": {
   "codemirror_mode": {
    "name": "ipython",
    "version": 3
   },
   "file_extension": ".py",
   "mimetype": "text/x-python",
   "name": "python",
   "nbconvert_exporter": "python",
   "pygments_lexer": "ipython3",
   "version": "3.7.4"
  }
 },
 "nbformat": 4,
 "nbformat_minor": 1
}
